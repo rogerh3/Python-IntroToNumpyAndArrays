{
 "cells": [
  {
   "cell_type": "code",
   "execution_count": 1,
   "id": "34b8e699",
   "metadata": {},
   "outputs": [],
   "source": [
    "#Udemy - Intro to Numpy and Arrays\n",
    "#Roger H Hayden III\n",
    "#2/9/22"
   ]
  },
  {
   "cell_type": "code",
   "execution_count": 4,
   "id": "ebd92cdc",
   "metadata": {},
   "outputs": [],
   "source": [
    "l = [23245,27,546,215,-1234]"
   ]
  },
  {
   "cell_type": "code",
   "execution_count": 6,
   "id": "8b980063",
   "metadata": {},
   "outputs": [
    {
     "data": {
      "text/plain": [
       "[23245, 27, 546, 215, -1234]"
      ]
     },
     "execution_count": 6,
     "metadata": {},
     "output_type": "execute_result"
    }
   ],
   "source": [
    "l"
   ]
  },
  {
   "cell_type": "code",
   "execution_count": null,
   "id": "0eba536c",
   "metadata": {},
   "outputs": [],
   "source": [
    "#2 kinds of arrays - built in - array arrays and numpy arrays"
   ]
  },
  {
   "cell_type": "code",
   "execution_count": 13,
   "id": "e13163e7",
   "metadata": {},
   "outputs": [],
   "source": [
    "import numpy as np"
   ]
  },
  {
   "cell_type": "code",
   "execution_count": 16,
   "id": "b8e7d16c",
   "metadata": {},
   "outputs": [],
   "source": [
    "a = np.array(l)"
   ]
  },
  {
   "cell_type": "code",
   "execution_count": 17,
   "id": "df94ad77",
   "metadata": {},
   "outputs": [
    {
     "data": {
      "text/plain": [
       "array([23245,    27,   546,   215, -1234])"
      ]
     },
     "execution_count": 17,
     "metadata": {},
     "output_type": "execute_result"
    }
   ],
   "source": [
    "a"
   ]
  },
  {
   "cell_type": "code",
   "execution_count": 21,
   "id": "4c1f0c72",
   "metadata": {},
   "outputs": [],
   "source": [
    "#As we will see here, arrays can only have one data type\n",
    "b = np.array([12,455,63.3,True,\"abc\"])"
   ]
  },
  {
   "cell_type": "code",
   "execution_count": 22,
   "id": "f74b5ba5",
   "metadata": {},
   "outputs": [
    {
     "data": {
      "text/plain": [
       "array(['12', '455', '63.3', 'True', 'abc'], dtype='<U32')"
      ]
     },
     "execution_count": 22,
     "metadata": {},
     "output_type": "execute_result"
    }
   ],
   "source": [
    "b"
   ]
  },
  {
   "cell_type": "code",
   "execution_count": 23,
   "id": "93d056ef",
   "metadata": {},
   "outputs": [
    {
     "name": "stdout",
     "output_type": "stream",
     "text": [
      "['12' '455' '63.3' 'True' 'abc']\n"
     ]
    }
   ],
   "source": [
    "print(b)"
   ]
  },
  {
   "cell_type": "code",
   "execution_count": 24,
   "id": "6e46a405",
   "metadata": {},
   "outputs": [
    {
     "data": {
      "text/plain": [
       "-1234"
      ]
     },
     "execution_count": 24,
     "metadata": {},
     "output_type": "execute_result"
    }
   ],
   "source": [
    "#For arrays, if you hit l. then tab, you will get a list of methods you can use\n",
    "l.pop()"
   ]
  },
  {
   "cell_type": "code",
   "execution_count": 25,
   "id": "0c511525",
   "metadata": {},
   "outputs": [
    {
     "data": {
      "text/plain": [
       "[23245, 27, 546, 215]"
      ]
     },
     "execution_count": 25,
     "metadata": {},
     "output_type": "execute_result"
    }
   ],
   "source": [
    "l"
   ]
  },
  {
   "cell_type": "code",
   "execution_count": 26,
   "id": "7886e42d",
   "metadata": {},
   "outputs": [
    {
     "data": {
      "text/plain": [
       "4559.8"
      ]
     },
     "execution_count": 26,
     "metadata": {},
     "output_type": "execute_result"
    }
   ],
   "source": [
    "a.mean()"
   ]
  },
  {
   "cell_type": "code",
   "execution_count": null,
   "id": "c57e2e75",
   "metadata": {},
   "outputs": [],
   "source": []
  }
 ],
 "metadata": {
  "kernelspec": {
   "display_name": "Python 3 (ipykernel)",
   "language": "python",
   "name": "python3"
  },
  "language_info": {
   "codemirror_mode": {
    "name": "ipython",
    "version": 3
   },
   "file_extension": ".py",
   "mimetype": "text/x-python",
   "name": "python",
   "nbconvert_exporter": "python",
   "pygments_lexer": "ipython3",
   "version": "3.9.7"
  }
 },
 "nbformat": 4,
 "nbformat_minor": 5
}
